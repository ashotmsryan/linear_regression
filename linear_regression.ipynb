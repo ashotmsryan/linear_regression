{
  "nbformat": 4,
  "nbformat_minor": 0,
  "metadata": {
    "colab": {
      "provenance": []
    },
    "kernelspec": {
      "name": "python3",
      "display_name": "Python 3"
    },
    "language_info": {
      "name": "python"
    }
  },
  "cells": [
    {
      "cell_type": "code",
      "execution_count": 135,
      "metadata": {
        "id": "tU9IVZFHnXG1"
      },
      "outputs": [],
      "source": [
        "import sys\n",
        "import pandas as pd\n",
        "from google.colab import files\n",
        "import altair as alt\n",
        "\n",
        "def update(mil, theta0=0, theta1=0):\n",
        "  return theta0 + (theta1 * mil)\n"
      ]
    },
    {
      "cell_type": "code",
      "source": [
        "def train(mil):\n",
        "  df = pd.read_csv(\"data.csv\")\n",
        "  data = df.copy()\n",
        "\n",
        "  mil = (mil - df[\"km\"].min()) / (df[\"km\"].max() - df[\"km\"].min())\n",
        "  df[\"km\"] = (df[\"km\"] - df[\"km\"].min()) / (df[\"km\"].max() - df[\"km\"].min()) #max-min method\n",
        "\n",
        "  theta0 = theta1 = 0\n",
        "  m = df[\"km\"].size\n",
        "  learningRate = 0.01\n",
        "\n",
        "  for _ in range(10000):\n",
        "    t0 = t1 = 0\n",
        "    for row in df.itertuples(index=False):\n",
        "      t0 += update(row[0], theta0, theta1) - row[1] #[0] is km | [1] is price\n",
        "      t1 += (update(row[0], theta0, theta1) - row[1]) * row[0]\n",
        "    theta0 -= (learningRate * t0) / m\n",
        "    theta1 -= (learningRate * t1) / m\n",
        "\n",
        "  chart = alt.Chart(data).mark_point().encode(x=alt.X('km'), y=alt.Y('price'))\n",
        "  chart = (chart + chart.transform_regression('km', 'price').mark_line())\n",
        "  return (theta0, theta1, mil, chart)"
      ],
      "metadata": {
        "id": "E-EcvZKPKLXS"
      },
      "execution_count": 146,
      "outputs": []
    },
    {
      "cell_type": "code",
      "source": [
        "#mian\n",
        "try:\n",
        "  mil = int(input(\"the mileage: \"))\n",
        "  trained = train(mil)\n",
        "  print(trained)\n",
        "  estimatedPrice = update(trained[2], trained[0], trained[1])\n",
        "  (trained[3] + alt.Chart(pd.DataFrame({'km': [mil], 'price': [estimatedPrice]})).mark_point(color='red').encode(x='km', y='price')).display()\n",
        "  print(f\"estimated price is {estimatedPrice}\")\n",
        "except IOError:\n",
        "  print(\"unreadable file or invalid imput for milage\")\n",
        ""
      ],
      "metadata": {
        "id": "sIGUz8Zcr9JL",
        "colab": {
          "base_uri": "https://localhost:8080/",
          "height": 420
        },
        "outputId": "23c28f9c-bd61-4992-c68e-ad79ebe098b3"
      },
      "execution_count": 147,
      "outputs": [
        {
          "output_type": "stream",
          "name": "stdout",
          "text": [
            "the mileage: 80000\n",
            "(7795.652780343331, -4094.9371247479994, 0.263015831341173, alt.LayerChart(...))\n"
          ]
        },
        {
          "output_type": "display_data",
          "data": {
            "text/html": [
              "\n",
              "<style>\n",
              "  #altair-viz-e6381f03a6b54dbeb49998e3bce00270.vega-embed {\n",
              "    width: 100%;\n",
              "    display: flex;\n",
              "  }\n",
              "\n",
              "  #altair-viz-e6381f03a6b54dbeb49998e3bce00270.vega-embed details,\n",
              "  #altair-viz-e6381f03a6b54dbeb49998e3bce00270.vega-embed details summary {\n",
              "    position: relative;\n",
              "  }\n",
              "</style>\n",
              "<div id=\"altair-viz-e6381f03a6b54dbeb49998e3bce00270\"></div>\n",
              "<script type=\"text/javascript\">\n",
              "  var VEGA_DEBUG = (typeof VEGA_DEBUG == \"undefined\") ? {} : VEGA_DEBUG;\n",
              "  (function(spec, embedOpt){\n",
              "    let outputDiv = document.currentScript.previousElementSibling;\n",
              "    if (outputDiv.id !== \"altair-viz-e6381f03a6b54dbeb49998e3bce00270\") {\n",
              "      outputDiv = document.getElementById(\"altair-viz-e6381f03a6b54dbeb49998e3bce00270\");\n",
              "    }\n",
              "\n",
              "    const paths = {\n",
              "      \"vega\": \"https://cdn.jsdelivr.net/npm/vega@5?noext\",\n",
              "      \"vega-lib\": \"https://cdn.jsdelivr.net/npm/vega-lib?noext\",\n",
              "      \"vega-lite\": \"https://cdn.jsdelivr.net/npm/vega-lite@5.20.1?noext\",\n",
              "      \"vega-embed\": \"https://cdn.jsdelivr.net/npm/vega-embed@6?noext\",\n",
              "    };\n",
              "\n",
              "    function maybeLoadScript(lib, version) {\n",
              "      var key = `${lib.replace(\"-\", \"\")}_version`;\n",
              "      return (VEGA_DEBUG[key] == version) ?\n",
              "        Promise.resolve(paths[lib]) :\n",
              "        new Promise(function(resolve, reject) {\n",
              "          var s = document.createElement('script');\n",
              "          document.getElementsByTagName(\"head\")[0].appendChild(s);\n",
              "          s.async = true;\n",
              "          s.onload = () => {\n",
              "            VEGA_DEBUG[key] = version;\n",
              "            return resolve(paths[lib]);\n",
              "          };\n",
              "          s.onerror = () => reject(`Error loading script: ${paths[lib]}`);\n",
              "          s.src = paths[lib];\n",
              "        });\n",
              "    }\n",
              "\n",
              "    function showError(err) {\n",
              "      outputDiv.innerHTML = `<div class=\"error\" style=\"color:red;\">${err}</div>`;\n",
              "      throw err;\n",
              "    }\n",
              "\n",
              "    function displayChart(vegaEmbed) {\n",
              "      vegaEmbed(outputDiv, spec, embedOpt)\n",
              "        .catch(err => showError(`Javascript Error: ${err.message}<br>This usually means there's a typo in your chart specification. See the javascript console for the full traceback.`));\n",
              "    }\n",
              "\n",
              "    if(typeof define === \"function\" && define.amd) {\n",
              "      requirejs.config({paths});\n",
              "      let deps = [\"vega-embed\"];\n",
              "      require(deps, displayChart, err => showError(`Error loading script: ${err.message}`));\n",
              "    } else {\n",
              "      maybeLoadScript(\"vega\", \"5\")\n",
              "        .then(() => maybeLoadScript(\"vega-lite\", \"5.20.1\"))\n",
              "        .then(() => maybeLoadScript(\"vega-embed\", \"6\"))\n",
              "        .catch(showError)\n",
              "        .then(() => displayChart(vegaEmbed));\n",
              "    }\n",
              "  })({\"config\": {\"view\": {\"continuousWidth\": 300, \"continuousHeight\": 300}}, \"layer\": [{\"mark\": {\"type\": \"point\"}, \"encoding\": {\"x\": {\"field\": \"km\", \"type\": \"quantitative\"}, \"y\": {\"field\": \"price\", \"type\": \"quantitative\"}}}, {\"mark\": {\"type\": \"line\"}, \"encoding\": {\"x\": {\"field\": \"km\", \"type\": \"quantitative\"}, \"y\": {\"field\": \"price\", \"type\": \"quantitative\"}}, \"transform\": [{\"on\": \"km\", \"regression\": \"price\"}]}, {\"data\": {\"name\": \"data-d2a3ada5bf23be591f32ccb6f7604eb0\"}, \"mark\": {\"type\": \"point\", \"color\": \"red\"}, \"encoding\": {\"x\": {\"field\": \"km\", \"type\": \"quantitative\"}, \"y\": {\"field\": \"price\", \"type\": \"quantitative\"}}}], \"data\": {\"name\": \"data-4b74c3f12df94294ebd8500181318a17\"}, \"$schema\": \"https://vega.github.io/schema/vega-lite/v5.20.1.json\", \"datasets\": {\"data-4b74c3f12df94294ebd8500181318a17\": [{\"km\": 240000, \"price\": 3650}, {\"km\": 139800, \"price\": 3800}, {\"km\": 150500, \"price\": 4400}, {\"km\": 185530, \"price\": 4450}, {\"km\": 176000, \"price\": 5250}, {\"km\": 114800, \"price\": 5350}, {\"km\": 166800, \"price\": 5800}, {\"km\": 89000, \"price\": 5990}, {\"km\": 144500, \"price\": 5999}, {\"km\": 84000, \"price\": 6200}, {\"km\": 82029, \"price\": 6390}, {\"km\": 63060, \"price\": 6390}, {\"km\": 74000, \"price\": 6600}, {\"km\": 97500, \"price\": 6800}, {\"km\": 67000, \"price\": 6800}, {\"km\": 76025, \"price\": 6900}, {\"km\": 48235, \"price\": 6900}, {\"km\": 93000, \"price\": 6990}, {\"km\": 60949, \"price\": 7490}, {\"km\": 65674, \"price\": 7555}, {\"km\": 54000, \"price\": 7990}, {\"km\": 68500, \"price\": 7990}, {\"km\": 22899, \"price\": 7990}, {\"km\": 61789, \"price\": 8290}], \"data-d2a3ada5bf23be591f32ccb6f7604eb0\": [{\"km\": 80000, \"price\": 6718.619488187904}]}}, {\"mode\": \"vega-lite\"});\n",
              "</script>"
            ],
            "text/plain": [
              "alt.LayerChart(...)"
            ]
          },
          "metadata": {}
        },
        {
          "output_type": "stream",
          "name": "stdout",
          "text": [
            "estimated price is 6718.619488187904\n"
          ]
        }
      ]
    },
    {
      "cell_type": "code",
      "source": [],
      "metadata": {
        "id": "yF9beYvfzmNf"
      },
      "execution_count": null,
      "outputs": []
    }
  ]
}